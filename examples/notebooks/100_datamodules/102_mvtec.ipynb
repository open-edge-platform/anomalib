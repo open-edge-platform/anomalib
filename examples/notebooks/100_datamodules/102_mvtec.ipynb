version https://git-lfs.github.com/spec/v1
oid sha256:7f58d11023d872fd6aecd0a9b99dc963e225bf34667d41330a4686bf561b9b73
size 7857
