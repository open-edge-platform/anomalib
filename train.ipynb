{
 "cells": [
  {
   "cell_type": "code",
   "execution_count": 1,
   "metadata": {},
   "outputs": [],
   "source": [
    "%load_ext autoreload\n",
    "%autoreload"
   ]
  },
  {
   "cell_type": "markdown",
   "metadata": {},
   "source": [
    "## Import Libraries"
   ]
  },
  {
   "cell_type": "code",
   "execution_count": 2,
   "metadata": {},
   "outputs": [],
   "source": [
    "from typing import Dict\n",
    "\n",
    "from torch.utils.data import DataLoader\n",
    "from torchvision.transforms import ToPILImage\n",
    "import torch.nn.functional as F\n",
    "import torch\n",
    "import torch.nn as nn\n",
    "from torchvision.models import resnet18, resnet50\n",
    "from torchvision.models.utils import load_state_dict_from_url\n",
    "from typing import Type, Any, Callable, Union, List, Optional, cast\n",
    "from torch import Tensor\n",
    "from collections import OrderedDict\n",
    "import pytorch_lightning as pl\n",
    "\n",
    "from anomalib.datasets import MVTec, MVTecDataModule\n",
    "from anomalib.models.stfpm import FeatureExtractor, FeaturePyramidLoss, StudentTeacherFeaturePyramidMatching"
   ]
  },
  {
   "cell_type": "markdown",
   "metadata": {},
   "source": [
    "## Dataset"
   ]
  },
  {
   "cell_type": "code",
   "execution_count": 3,
   "metadata": {},
   "outputs": [],
   "source": [
    "data_module = MVTecDataModule(root=\"./datasets/MVTec/\", category=\"leather\", batch_size=32, num_workers=36)\n",
    "data_module.setup()\n",
    "i, (image, mask) = next(enumerate(data_module.val_dataloader()))"
   ]
  },
  {
   "cell_type": "code",
   "execution_count": 4,
   "metadata": {},
   "outputs": [
    {
     "data": {
      "text/plain": [
       "(torch.Size([32, 3, 256, 256]), torch.Size([32, 3, 256, 256]))"
      ]
     },
     "execution_count": 4,
     "metadata": {},
     "output_type": "execute_result"
    }
   ],
   "source": [
    "image.shape, mask.shape"
   ]
  },
  {
   "cell_type": "markdown",
   "metadata": {},
   "source": [
    "## Train"
   ]
  },
  {
   "cell_type": "code",
   "execution_count": 5,
   "metadata": {
    "scrolled": true
   },
   "outputs": [
    {
     "name": "stderr",
     "output_type": "stream",
     "text": [
      "GPU available: True, used: True\n",
      "TPU available: False, using: 0 TPU cores\n",
      "Dataset directory exists.\n",
      "Dataset directory exists.\n",
      "LOCAL_RANK: 0 - CUDA_VISIBLE_DEVICES: [0,1]\n",
      "\n",
      "  | Name          | Type               | Params\n",
      "-----------------------------------------------------\n",
      "0 | teacher_model | FeatureExtractor   | 11.7 M\n",
      "1 | student_model | FeatureExtractor   | 11.7 M\n",
      "2 | loss          | FeaturePyramidLoss | 0     \n",
      "-----------------------------------------------------\n",
      "11.7 M    Trainable params\n",
      "11.7 M    Non-trainable params\n",
      "23.4 M    Total params\n",
      "93.516    Total estimated model params size (MB)\n"
     ]
    },
    {
     "name": "stdout",
     "output_type": "stream",
     "text": [
      "Epoch 0:  58%|█████▊    | 7/12 [00:02<00:01,  2.55it/s, loss=nan, v_num=32, val_loss=55.90, loss_step=56.80]"
     ]
    },
    {
     "name": "stderr",
     "output_type": "stream",
     "text": [
      "/home/sakcay/miniconda3/envs/stfpm/lib/python3.6/site-packages/pytorch_lightning/utilities/distributed.py:52: UserWarning: training_step returned None if it was on purpose, ignore this warning...\n",
      "  warnings.warn(*args, **kwargs)\n"
     ]
    },
    {
     "name": "stdout",
     "output_type": "stream",
     "text": [
      "Epoch 0:  75%|███████▌  | 9/12 [00:02<00:00,  3.08it/s, loss=nan, v_num=32, val_loss=55.90, loss_step=56.70]\n",
      "Validating: 0it [00:00, ?it/s]\u001b[A\n",
      "Validating:   0%|          | 0/4 [00:00<?, ?it/s]\u001b[A\n",
      "Epoch 0: 100%|██████████| 12/12 [00:05<00:00,  2.04it/s, loss=nan, v_num=32, val_loss=57.70, loss_step=37.20, loss_epoch=55.00]\n",
      "Epoch 1:  67%|██████▋   | 8/12 [00:02<00:01,  2.77it/s, loss=nan, v_num=32, val_loss=57.70, loss_step=56.70, loss_epoch=55.00] \n",
      "Validating: 0it [00:00, ?it/s]\u001b[A\n",
      "Validating:   0%|          | 0/4 [00:00<?, ?it/s]\u001b[A\n",
      "Epoch 1: 100%|██████████| 12/12 [00:05<00:00,  2.04it/s, loss=nan, v_num=32, val_loss=60.20, loss_step=37.20, loss_epoch=55.00]\n",
      "Epoch 2:  67%|██████▋   | 8/12 [00:02<00:01,  2.85it/s, loss=nan, v_num=32, val_loss=60.20, loss_step=56.70, loss_epoch=55.00] \n",
      "Validating: 0it [00:00, ?it/s]\u001b[A\n",
      "Validating:   0%|          | 0/4 [00:00<?, ?it/s]\u001b[A\n",
      "Validating:  25%|██▌       | 1/4 [00:02<00:08,  2.74s/it]\u001b[A\n",
      "Epoch 2: 100%|██████████| 12/12 [00:05<00:00,  2.04it/s, loss=nan, v_num=32, val_loss=60.20, loss_step=37.20, loss_epoch=55.00]\n",
      "Epoch 3:  67%|██████▋   | 8/12 [00:02<00:01,  2.93it/s, loss=nan, v_num=32, val_loss=60.20, loss_step=56.70, loss_epoch=55.00] \n",
      "Validating: 0it [00:00, ?it/s]\u001b[A\n",
      "Validating:   0%|          | 0/4 [00:00<?, ?it/s]\u001b[A\n",
      "Epoch 3: 100%|██████████| 12/12 [00:05<00:00,  2.10it/s, loss=nan, v_num=32, val_loss=59.00, loss_step=37.20, loss_epoch=55.00]\n",
      "Epoch 4:  67%|██████▋   | 8/12 [00:02<00:01,  2.83it/s, loss=nan, v_num=32, val_loss=59.00, loss_step=56.70, loss_epoch=55.00] \n",
      "Validating: 0it [00:00, ?it/s]\u001b[A\n",
      "Validating:   0%|          | 0/4 [00:00<?, ?it/s]\u001b[A\n",
      "Epoch 4: 100%|██████████| 12/12 [00:05<00:00,  2.05it/s, loss=nan, v_num=32, val_loss=58.00, loss_step=37.20, loss_epoch=55.00]\n",
      "Epoch 5:  67%|██████▋   | 8/12 [00:02<00:01,  2.79it/s, loss=nan, v_num=32, val_loss=58.00, loss_step=56.70, loss_epoch=55.00] \n",
      "Validating: 0it [00:00, ?it/s]\u001b[A\n",
      "Validating:   0%|          | 0/4 [00:00<?, ?it/s]\u001b[A\n",
      "Epoch 5: 100%|██████████| 12/12 [00:05<00:00,  2.02it/s, loss=nan, v_num=32, val_loss=57.50, loss_step=37.20, loss_epoch=55.00]\n",
      "Epoch 6:  67%|██████▋   | 8/12 [00:02<00:01,  2.85it/s, loss=nan, v_num=32, val_loss=57.50, loss_step=56.70, loss_epoch=55.00] \n",
      "Validating: 0it [00:00, ?it/s]\u001b[A\n",
      "Validating:   0%|          | 0/4 [00:00<?, ?it/s]\u001b[A\n",
      "Epoch 6: 100%|██████████| 12/12 [00:05<00:00,  2.08it/s, loss=nan, v_num=32, val_loss=57.10, loss_step=37.20, loss_epoch=55.00]\n",
      "Epoch 7:  67%|██████▋   | 8/12 [00:02<00:01,  2.78it/s, loss=nan, v_num=32, val_loss=57.10, loss_step=56.70, loss_epoch=55.00] \n",
      "Validating: 0it [00:00, ?it/s]\u001b[A\n",
      "Validating:   0%|          | 0/4 [00:00<?, ?it/s]\u001b[A\n",
      "Epoch 7: 100%|██████████| 12/12 [00:05<00:00,  2.04it/s, loss=nan, v_num=32, val_loss=56.80, loss_step=37.20, loss_epoch=55.00]\n",
      "Epoch 8:  67%|██████▋   | 8/12 [00:02<00:01,  2.77it/s, loss=nan, v_num=32, val_loss=56.80, loss_step=56.70, loss_epoch=55.00] \n",
      "Validating: 0it [00:00, ?it/s]\u001b[A\n",
      "Validating:   0%|          | 0/4 [00:00<?, ?it/s]\u001b[A\n",
      "Epoch 8: 100%|██████████| 12/12 [00:05<00:00,  2.06it/s, loss=nan, v_num=32, val_loss=56.20, loss_step=37.20, loss_epoch=55.00]\n",
      "Epoch 9:  67%|██████▋   | 8/12 [00:02<00:01,  2.72it/s, loss=nan, v_num=32, val_loss=56.20, loss_step=56.70, loss_epoch=55.00] \n",
      "Validating: 0it [00:00, ?it/s]\u001b[A\n",
      "Validating:   0%|          | 0/4 [00:00<?, ?it/s]\u001b[A\n",
      "Epoch 9: 100%|██████████| 12/12 [00:05<00:00,  2.02it/s, loss=nan, v_num=32, val_loss=55.80, loss_step=37.20, loss_epoch=55.00]\n",
      "Epoch 10:  67%|██████▋   | 8/12 [00:02<00:01,  2.87it/s, loss=nan, v_num=32, val_loss=55.80, loss_step=56.70, loss_epoch=55.00]\n",
      "Validating: 0it [00:00, ?it/s]\u001b[A\n",
      "Validating:   0%|          | 0/4 [00:00<?, ?it/s]\u001b[A\n",
      "Epoch 10: 100%|██████████| 12/12 [00:05<00:00,  2.08it/s, loss=nan, v_num=32, val_loss=55.70, loss_step=37.20, loss_epoch=55.00]\n",
      "Epoch 11:  67%|██████▋   | 8/12 [00:02<00:01,  2.80it/s, loss=nan, v_num=32, val_loss=55.70, loss_step=56.70, loss_epoch=55.00] \n",
      "Validating: 0it [00:00, ?it/s]\u001b[A\n",
      "Validating:   0%|          | 0/4 [00:00<?, ?it/s]\u001b[A\n",
      "Epoch 11: 100%|██████████| 12/12 [00:05<00:00,  2.03it/s, loss=nan, v_num=32, val_loss=55.80, loss_step=37.20, loss_epoch=55.00]\n",
      "Epoch 12:  67%|██████▋   | 8/12 [00:02<00:01,  2.69it/s, loss=nan, v_num=32, val_loss=55.80, loss_step=56.70, loss_epoch=55.00] \n",
      "Validating: 0it [00:00, ?it/s]\u001b[A\n",
      "Validating:   0%|          | 0/4 [00:00<?, ?it/s]\u001b[A\n",
      "Epoch 12: 100%|██████████| 12/12 [00:05<00:00,  2.02it/s, loss=nan, v_num=32, val_loss=55.90, loss_step=37.20, loss_epoch=55.00]\n",
      "Epoch 13:  67%|██████▋   | 8/12 [00:02<00:01,  2.90it/s, loss=nan, v_num=32, val_loss=55.90, loss_step=56.70, loss_epoch=55.00] \n",
      "Validating: 0it [00:00, ?it/s]\u001b[A\n",
      "Validating:   0%|          | 0/4 [00:00<?, ?it/s]\u001b[A\n",
      "Epoch 13: 100%|██████████| 12/12 [00:05<00:00,  2.12it/s, loss=nan, v_num=32, val_loss=56.00, loss_step=37.20, loss_epoch=55.00]\n",
      "Epoch 14:  67%|██████▋   | 8/12 [00:02<00:01,  2.91it/s, loss=nan, v_num=32, val_loss=56.00, loss_step=56.70, loss_epoch=55.00] \n",
      "Validating: 0it [00:00, ?it/s]\u001b[A\n",
      "Validating:   0%|          | 0/4 [00:00<?, ?it/s]\u001b[A\n",
      "Validating:  25%|██▌       | 1/4 [00:02<00:08,  2.83s/it]\u001b[A\n",
      "Epoch 14: 100%|██████████| 12/12 [00:05<00:00,  2.04it/s, loss=nan, v_num=32, val_loss=56.10, loss_step=37.20, loss_epoch=55.00]\n",
      "Epoch 15:  67%|██████▋   | 8/12 [00:02<00:01,  2.87it/s, loss=nan, v_num=32, val_loss=56.10, loss_step=56.70, loss_epoch=55.00] \n",
      "Validating: 0it [00:00, ?it/s]\u001b[A\n",
      "Validating:   0%|          | 0/4 [00:00<?, ?it/s]\u001b[A\n",
      "Validating:  25%|██▌       | 1/4 [00:02<00:08,  2.77s/it]\u001b[A\n",
      "Epoch 15: 100%|██████████| 12/12 [00:05<00:00,  2.05it/s, loss=nan, v_num=32, val_loss=56.10, loss_step=37.20, loss_epoch=55.00]\n",
      "Epoch 16:  67%|██████▋   | 8/12 [00:02<00:01,  2.73it/s, loss=nan, v_num=32, val_loss=56.10, loss_step=56.70, loss_epoch=55.00] \n",
      "Validating: 0it [00:00, ?it/s]\u001b[A\n",
      "Validating:   0%|          | 0/4 [00:00<?, ?it/s]\u001b[A\n",
      "Epoch 16: 100%|██████████| 12/12 [00:05<00:00,  2.02it/s, loss=nan, v_num=32, val_loss=56.10, loss_step=37.20, loss_epoch=55.00]\n",
      "Epoch 17:  67%|██████▋   | 8/12 [00:02<00:01,  2.87it/s, loss=nan, v_num=32, val_loss=56.10, loss_step=56.70, loss_epoch=55.00] \n",
      "Validating: 0it [00:00, ?it/s]\u001b[A\n",
      "Validating:   0%|          | 0/4 [00:00<?, ?it/s]\u001b[A\n",
      "Epoch 17: 100%|██████████| 12/12 [00:05<00:00,  2.08it/s, loss=nan, v_num=32, val_loss=56.10, loss_step=37.20, loss_epoch=55.00]\n",
      "Epoch 18:  67%|██████▋   | 8/12 [00:02<00:01,  2.80it/s, loss=nan, v_num=32, val_loss=56.10, loss_step=56.70, loss_epoch=55.00] \n",
      "Validating: 0it [00:00, ?it/s]\u001b[A\n",
      "Validating:   0%|          | 0/4 [00:00<?, ?it/s]\u001b[A\n",
      "Epoch 18: 100%|██████████| 12/12 [00:05<00:00,  2.07it/s, loss=nan, v_num=32, val_loss=56.10, loss_step=37.20, loss_epoch=55.00]\n",
      "Epoch 19:  67%|██████▋   | 8/12 [00:02<00:01,  2.83it/s, loss=nan, v_num=32, val_loss=56.10, loss_step=56.70, loss_epoch=55.00] \n",
      "Validating: 0it [00:00, ?it/s]\u001b[A\n",
      "Validating:   0%|          | 0/4 [00:00<?, ?it/s]\u001b[A\n",
      "Validating:  25%|██▌       | 1/4 [00:02<00:08,  2.74s/it]\u001b[A\n",
      "Epoch 19: 100%|██████████| 12/12 [00:05<00:00,  2.06it/s, loss=nan, v_num=32, val_loss=56.10, loss_step=37.20, loss_epoch=55.00]\n",
      "Epoch 20:  67%|██████▋   | 8/12 [00:02<00:01,  2.80it/s, loss=nan, v_num=32, val_loss=56.10, loss_step=56.70, loss_epoch=55.00] \n",
      "Validating: 0it [00:00, ?it/s]\u001b[A\n",
      "Validating:   0%|          | 0/4 [00:00<?, ?it/s]\u001b[A\n",
      "Epoch 20: 100%|██████████| 12/12 [00:05<00:00,  2.06it/s, loss=nan, v_num=32, val_loss=56.10, loss_step=56.70, loss_epoch=55.00]\n",
      "Epoch 20: 100%|██████████| 12/12 [00:05<00:00,  2.00it/s, loss=nan, v_num=32, val_loss=56.10, loss_step=37.20, loss_epoch=55.00]\n",
      "Epoch 21:  67%|██████▋   | 8/12 [00:02<00:01,  2.73it/s, loss=nan, v_num=32, val_loss=56.10, loss_step=56.70, loss_epoch=55.00] \n",
      "Validating: 0it [00:00, ?it/s]\u001b[A\n",
      "Validating:   0%|          | 0/4 [00:00<?, ?it/s]\u001b[A\n",
      "Epoch 21: 100%|██████████| 12/12 [00:06<00:00,  1.99it/s, loss=nan, v_num=32, val_loss=56.10, loss_step=37.20, loss_epoch=55.00]\n",
      "Epoch 22:  67%|██████▋   | 8/12 [00:02<00:01,  2.81it/s, loss=nan, v_num=32, val_loss=56.10, loss_step=56.70, loss_epoch=55.00] \n",
      "Validating: 0it [00:00, ?it/s]\u001b[A\n",
      "Validating:   0%|          | 0/4 [00:00<?, ?it/s]\u001b[A\n"
     ]
    },
    {
     "name": "stdout",
     "output_type": "stream",
     "text": [
      "Epoch 22: 100%|██████████| 12/12 [00:05<00:00,  2.01it/s, loss=nan, v_num=32, val_loss=56.10, loss_step=37.20, loss_epoch=55.00]\n",
      "Epoch 23:  67%|██████▋   | 8/12 [00:02<00:01,  2.82it/s, loss=nan, v_num=32, val_loss=56.10, loss_step=56.70, loss_epoch=55.00] \n",
      "Validating: 0it [00:00, ?it/s]\u001b[A\n",
      "Validating:   0%|          | 0/4 [00:00<?, ?it/s]\u001b[A\n",
      "Epoch 23: 100%|██████████| 12/12 [00:05<00:00,  2.02it/s, loss=nan, v_num=32, val_loss=56.10, loss_step=37.20, loss_epoch=55.00]\n",
      "Epoch 24:  67%|██████▋   | 8/12 [00:02<00:01,  2.75it/s, loss=nan, v_num=32, val_loss=56.10, loss_step=56.70, loss_epoch=55.00] \n",
      "Validating: 0it [00:00, ?it/s]\u001b[A\n",
      "Validating:   0%|          | 0/4 [00:00<?, ?it/s]\u001b[A\n",
      "Epoch 24: 100%|██████████| 12/12 [00:05<00:00,  2.02it/s, loss=nan, v_num=32, val_loss=56.10, loss_step=37.20, loss_epoch=55.00]\n",
      "Epoch 25:  67%|██████▋   | 8/12 [00:02<00:01,  2.80it/s, loss=nan, v_num=32, val_loss=56.10, loss_step=56.70, loss_epoch=55.00] \n",
      "Validating: 0it [00:00, ?it/s]\u001b[A\n",
      "Validating:   0%|          | 0/4 [00:00<?, ?it/s]\u001b[A\n",
      "Epoch 25: 100%|██████████| 12/12 [00:05<00:00,  2.04it/s, loss=nan, v_num=32, val_loss=56.10, loss_step=37.20, loss_epoch=55.00]\n",
      "Epoch 26:  67%|██████▋   | 8/12 [00:03<00:01,  2.64it/s, loss=nan, v_num=32, val_loss=56.10, loss_step=56.70, loss_epoch=55.00] \n",
      "Validating: 0it [00:00, ?it/s]\u001b[A\n",
      "Validating:   0%|          | 0/4 [00:00<?, ?it/s]\u001b[A\n",
      "Epoch 26: 100%|██████████| 12/12 [00:06<00:00,  1.97it/s, loss=nan, v_num=32, val_loss=56.10, loss_step=37.20, loss_epoch=55.00]\n",
      "Epoch 27:  67%|██████▋   | 8/12 [00:02<00:01,  2.84it/s, loss=nan, v_num=32, val_loss=56.10, loss_step=56.70, loss_epoch=55.00] \n",
      "Validating: 0it [00:00, ?it/s]\u001b[A\n",
      "Validating:   0%|          | 0/4 [00:00<?, ?it/s]\u001b[A\n",
      "Epoch 27: 100%|██████████| 12/12 [00:05<00:00,  2.05it/s, loss=nan, v_num=32, val_loss=56.10, loss_step=37.20, loss_epoch=55.00]\n",
      "Epoch 28:  67%|██████▋   | 8/12 [00:02<00:01,  2.81it/s, loss=nan, v_num=32, val_loss=56.10, loss_step=56.70, loss_epoch=55.00] \n",
      "Validating: 0it [00:00, ?it/s]\u001b[A\n",
      "Validating:   0%|          | 0/4 [00:00<?, ?it/s]\u001b[A\n",
      "Epoch 28: 100%|██████████| 12/12 [00:05<00:00,  2.09it/s, loss=nan, v_num=32, val_loss=56.10, loss_step=37.20, loss_epoch=55.00]\n",
      "Epoch 29:  67%|██████▋   | 8/12 [00:02<00:01,  2.84it/s, loss=nan, v_num=32, val_loss=56.10, loss_step=56.70, loss_epoch=55.00] \n",
      "Validating: 0it [00:00, ?it/s]\u001b[A\n",
      "Validating:   0%|          | 0/4 [00:00<?, ?it/s]\u001b[A\n",
      "Epoch 29: 100%|██████████| 12/12 [00:05<00:00,  2.04it/s, loss=nan, v_num=32, val_loss=56.10, loss_step=37.20, loss_epoch=55.00]\n",
      "Epoch 30:  67%|██████▋   | 8/12 [00:02<00:01,  2.82it/s, loss=nan, v_num=32, val_loss=56.10, loss_step=56.70, loss_epoch=55.00] \n",
      "Validating: 0it [00:00, ?it/s]\u001b[A\n",
      "Validating:   0%|          | 0/4 [00:00<?, ?it/s]\u001b[A\n",
      "Epoch 30: 100%|██████████| 12/12 [00:05<00:00,  2.05it/s, loss=nan, v_num=32, val_loss=56.10, loss_step=37.20, loss_epoch=55.00]\n",
      "Epoch 31:  67%|██████▋   | 8/12 [00:02<00:01,  2.87it/s, loss=nan, v_num=32, val_loss=56.10, loss_step=56.70, loss_epoch=55.00] \n",
      "Validating: 0it [00:00, ?it/s]\u001b[A\n",
      "Validating:   0%|          | 0/4 [00:00<?, ?it/s]\u001b[A\n",
      "Epoch 31: 100%|██████████| 12/12 [00:05<00:00,  2.04it/s, loss=nan, v_num=32, val_loss=56.10, loss_step=37.20, loss_epoch=55.00]\n",
      "Epoch 32:  67%|██████▋   | 8/12 [00:02<00:01,  2.86it/s, loss=nan, v_num=32, val_loss=56.10, loss_step=56.70, loss_epoch=55.00] \n",
      "Validating: 0it [00:00, ?it/s]\u001b[A\n",
      "Validating:   0%|          | 0/4 [00:00<?, ?it/s]\u001b[A\n",
      "Epoch 32: 100%|██████████| 12/12 [00:05<00:00,  2.04it/s, loss=nan, v_num=32, val_loss=56.10, loss_step=37.20, loss_epoch=55.00]\n",
      "Epoch 33:  67%|██████▋   | 8/12 [00:02<00:01,  2.86it/s, loss=nan, v_num=32, val_loss=56.10, loss_step=56.70, loss_epoch=55.00] \n",
      "Validating: 0it [00:00, ?it/s]\u001b[A\n",
      "Validating:   0%|          | 0/4 [00:00<?, ?it/s]\u001b[A\n",
      "Epoch 33: 100%|██████████| 12/12 [00:05<00:00,  2.06it/s, loss=nan, v_num=32, val_loss=56.10, loss_step=37.20, loss_epoch=55.00]\n",
      "Epoch 34:  67%|██████▋   | 8/12 [00:02<00:01,  2.73it/s, loss=nan, v_num=32, val_loss=56.10, loss_step=56.70, loss_epoch=55.00] \n",
      "Validating: 0it [00:00, ?it/s]\u001b[A\n",
      "Validating:   0%|          | 0/4 [00:00<?, ?it/s]\u001b[A\n",
      "Epoch 34: 100%|██████████| 12/12 [00:05<00:00,  2.02it/s, loss=nan, v_num=32, val_loss=56.10, loss_step=37.20, loss_epoch=55.00]\n",
      "Epoch 35:  67%|██████▋   | 8/12 [00:02<00:01,  2.89it/s, loss=nan, v_num=32, val_loss=56.10, loss_step=56.70, loss_epoch=55.00] \n",
      "Validating: 0it [00:00, ?it/s]\u001b[A\n",
      "Validating:   0%|          | 0/4 [00:00<?, ?it/s]\u001b[A\n",
      "Epoch 35: 100%|██████████| 12/12 [00:05<00:00,  2.09it/s, loss=nan, v_num=32, val_loss=56.10, loss_step=37.20, loss_epoch=55.00]\n",
      "Epoch 36:  67%|██████▋   | 8/12 [00:02<00:01,  2.84it/s, loss=nan, v_num=32, val_loss=56.10, loss_step=56.70, loss_epoch=55.00] \n",
      "Validating: 0it [00:00, ?it/s]\u001b[A\n",
      "Validating:   0%|          | 0/4 [00:00<?, ?it/s]\u001b[A\n",
      "Epoch 36: 100%|██████████| 12/12 [00:05<00:00,  2.06it/s, loss=nan, v_num=32, val_loss=56.10, loss_step=37.20, loss_epoch=55.00]\n",
      "Epoch 37:  67%|██████▋   | 8/12 [00:02<00:01,  2.91it/s, loss=nan, v_num=32, val_loss=56.10, loss_step=56.70, loss_epoch=55.00] \n",
      "Validating: 0it [00:00, ?it/s]\u001b[A\n",
      "Validating:   0%|          | 0/4 [00:00<?, ?it/s]\u001b[A\n",
      "Epoch 37: 100%|██████████| 12/12 [00:05<00:00,  2.09it/s, loss=nan, v_num=32, val_loss=56.10, loss_step=37.20, loss_epoch=55.00]\n",
      "Epoch 38:  67%|██████▋   | 8/12 [00:02<00:01,  2.85it/s, loss=nan, v_num=32, val_loss=56.10, loss_step=56.70, loss_epoch=55.00] \n",
      "Validating: 0it [00:00, ?it/s]\u001b[A\n",
      "Validating:   0%|          | 0/4 [00:00<?, ?it/s]\u001b[A\n",
      "Epoch 38: 100%|██████████| 12/12 [00:05<00:00,  2.07it/s, loss=nan, v_num=32, val_loss=56.10, loss_step=37.20, loss_epoch=55.00]\n",
      "Epoch 39:  67%|██████▋   | 8/12 [00:02<00:01,  2.87it/s, loss=nan, v_num=32, val_loss=56.10, loss_step=56.70, loss_epoch=55.00] \n",
      "Validating: 0it [00:00, ?it/s]\u001b[A\n",
      "Validating:   0%|          | 0/4 [00:00<?, ?it/s]\u001b[A\n",
      "Epoch 39: 100%|██████████| 12/12 [00:05<00:00,  2.08it/s, loss=nan, v_num=32, val_loss=56.10, loss_step=37.20, loss_epoch=55.00]\n",
      "Epoch 40:  67%|██████▋   | 8/12 [00:02<00:01,  2.81it/s, loss=nan, v_num=32, val_loss=56.10, loss_step=56.70, loss_epoch=55.00] \n",
      "Validating: 0it [00:00, ?it/s]\u001b[A\n",
      "Epoch 40:  75%|███████▌  | 9/12 [00:03<00:01,  2.41it/s, loss=nan, v_num=32, val_loss=56.10, loss_step=56.70, loss_epoch=55.00]\n"
     ]
    },
    {
     "name": "stderr",
     "output_type": "stream",
     "text": [
      "/home/sakcay/miniconda3/envs/stfpm/lib/python3.6/site-packages/pytorch_lightning/utilities/distributed.py:52: UserWarning: Detected KeyboardInterrupt, attempting graceful shutdown...\n",
      "  warnings.warn(*args, **kwargs)\n",
      "Exception ignored in: <bound method _MultiProcessingDataLoaderIter.__del__ of <torch.utils.data.dataloader._MultiProcessingDataLoaderIter object at 0x7f8be2f2d048>>\n",
      "Traceback (most recent call last):\n",
      "  File \"/home/sakcay/miniconda3/envs/stfpm/lib/python3.6/site-packages/torch/utils/data/dataloader.py\", line 1203, in __del__\n",
      "    self._shutdown_workers()\n",
      "  File \"/home/sakcay/miniconda3/envs/stfpm/lib/python3.6/site-packages/torch/utils/data/dataloader.py\", line 1174, in _shutdown_workers\n",
      "    if self._persistent_workers or self._workers_status[worker_id]:\n",
      "AttributeError: '_MultiProcessingDataLoaderIter' object has no attribute '_workers_status'\n"
     ]
    },
    {
     "data": {
      "text/plain": [
       "1"
      ]
     },
     "execution_count": 5,
     "metadata": {},
     "output_type": "execute_result"
    }
   ],
   "source": [
    "from argparse import ArgumentParser\n",
    "from pytorch_lightning import Trainer\n",
    "\n",
    "parser = ArgumentParser()\n",
    "parser.add_argument(\"--dataroot\", type=str, default=\"./datasets/MVTec\")\n",
    "parser.add_argument(\"--category\", type=str, default=\"leather\")\n",
    "\n",
    "parser = StudentTeacherFeaturePyramidMatching.add_model_specific_args(parser)\n",
    "parser = Trainer.add_argparse_args(parser)\n",
    "args = parser.parse_args(\"\")\n",
    "\n",
    "trainer = Trainer(gpus=1, max_epochs=100)\n",
    "datamodule = MVTecDataModule(args.dataroot, args.category, args.batch_size, args.num_workers)\n",
    "model = StudentTeacherFeaturePyramidMatching(args)\n",
    "trainer.fit(model=model, datamodule=datamodule)"
   ]
  },
  {
   "cell_type": "markdown",
   "metadata": {},
   "source": [
    "## Test"
   ]
  },
  {
   "cell_type": "code",
   "execution_count": null,
   "metadata": {},
   "outputs": [],
   "source": [
    "model = StudentTeacherFeaturePyramidMatching(args)"
   ]
  },
  {
   "cell_type": "code",
   "execution_count": null,
   "metadata": {
    "scrolled": true
   },
   "outputs": [],
   "source": [
    "# model.load_from_checkpoint(checkpoint_path=\"lightning_logs/version_30/checkpoints/epoch=11-step=95.ckpt\")\n",
    "model.load_from_checkpoint(checkpoint_path=\"lightning_logs/version_32/checkpoints/epoch=10-step=87.ckpt\")\n",
    "model.eval()"
   ]
  },
  {
   "cell_type": "code",
   "execution_count": 7,
   "metadata": {},
   "outputs": [],
   "source": [
    "i, (image, true_mask) = next(enumerate(data_module.val_dataloader()))"
   ]
  },
  {
   "cell_type": "code",
   "execution_count": null,
   "metadata": {},
   "outputs": [],
   "source": [
    "ToPILImage()(image[0])"
   ]
  },
  {
   "cell_type": "code",
   "execution_count": null,
   "metadata": {
    "scrolled": true
   },
   "outputs": [],
   "source": [
    "ToPILImage()(true_mask[0])"
   ]
  },
  {
   "cell_type": "code",
   "execution_count": 30,
   "metadata": {},
   "outputs": [],
   "source": [
    "teacher_features = model.teacher_model(image)\n",
    "student_features = model.student_model(image)"
   ]
  },
  {
   "cell_type": "code",
   "execution_count": 31,
   "metadata": {},
   "outputs": [],
   "source": [
    "teacher_feature = teacher_features['layer2']\n",
    "student_feature = student_features['layer2']"
   ]
  },
  {
   "cell_type": "code",
   "execution_count": null,
   "metadata": {},
   "outputs": [],
   "source": []
  },
  {
   "cell_type": "markdown",
   "metadata": {},
   "source": [
    "## Anomaly"
   ]
  },
  {
   "cell_type": "code",
   "execution_count": 35,
   "metadata": {},
   "outputs": [
    {
     "data": {
      "text/plain": [
       "(256, 256)"
      ]
     },
     "execution_count": 35,
     "metadata": {},
     "output_type": "execute_result"
    }
   ],
   "source": [
    "pdist = torch.nn.PairwiseDistance(p=2, keepdim=True)\n",
    "\n",
    "# Compute Distance.\n",
    "fs_norm = torch.divide(student_feature, torch.norm(student_feature, p=2, dim=1, keepdim=True))\n",
    "ft_norm = torch.divide(teacher_feature, torch.norm(teacher_feature, p=2, dim=1, keepdim=True))\n",
    "a_map = 0.5*pdist(fs_norm, ft_norm)**2\n",
    "a_map = F.interpolate(a_map, size=256, mode='bilinear', align_corners=False)\n",
    "\n",
    "a_map = a_map[0,0,:,:].to('cpu').detach().numpy()\n",
    "a_map.shape"
   ]
  },
  {
   "cell_type": "code",
   "execution_count": 38,
   "metadata": {},
   "outputs": [],
   "source": [
    "# Compute Distance.\n",
    "distance = torch.nn.PairwiseDistance(p=2, keepdim=True)\n",
    "norm_teacher_features = F.normalize(teacher_feature)\n",
    "norm_student_features = F.normalize(student_feature)\n",
    "layer_map = 0.5 * distance(norm_teacher_features, norm_student_features)\n",
    "layer_map = F.interpolate(layer_map, size=256, mode='bilinear', align_corners=False)"
   ]
  },
  {
   "cell_type": "code",
   "execution_count": 37,
   "metadata": {},
   "outputs": [
    {
     "data": {
      "text/plain": [
       "<matplotlib.image.AxesImage at 0x7f8bd00d1588>"
      ]
     },
     "execution_count": 37,
     "metadata": {},
     "output_type": "execute_result"
    },
    {
     "data": {
      "image/png": "[encoded data removed]",
      "text/plain": [
       "<Figure size 432x288 with 1 Axes>"
      ]
     },
     "metadata": {
      "needs_background": "light"
     },
     "output_type": "display_data"
    }
   ],
   "source": [
    "import matplotlib.pyplot as plt\n",
    "plt.imshow(a_map)"
   ]
  },
  {
   "cell_type": "code",
   "execution_count": null,
   "metadata": {},
   "outputs": [],
   "source": [
    "criterion = torch.nn.MSELoss(reduction='sum')\n",
    "h, w = teacher_feature.shape[2:]\n",
    "ft_norm = torch.divide(teacher_feature, torch.norm(teacher_feature, p=2, dim=1, keepdim=True))\n",
    "fs_norm = torch.divide(student_feature, torch.norm(student_feature, p=2, dim=1, keepdim=True))\n",
    "f_loss = (0.5/(w*h))*criterion(fs_norm, ft_norm)\n",
    "f_loss\n",
    "\n",
    "# pdist = torch.nn.PairwiseDistance(p=2, keepdim=True)\n",
    "\n",
    "# amap1 = 0.5*pdist(fs_norm, ft_norm)**2\n",
    "\n",
    "# amap1 = F.interpolate(amap1, size=256, mode='bilinear', align_corners=False)"
   ]
  },
  {
   "cell_type": "code",
   "execution_count": null,
   "metadata": {},
   "outputs": [],
   "source": [
    "mse_loss = nn.MSELoss(reduction=\"sum\")\n",
    "height, width = teacher_feature.shape[2:]\n",
    "norm_teacher_features = F.normalize(teacher_feature)\n",
    "norm_student_features = F.normalize(student_feature)\n",
    "layer_loss = (0.5/(width*height)) * mse_loss(norm_teacher_features, norm_student_features)\n",
    "layer_loss"
   ]
  },
  {
   "cell_type": "code",
   "execution_count": null,
   "metadata": {},
   "outputs": [],
   "source": [
    "mse_loss = nn.MSELoss(reduction=\"none\")\n",
    "h, w = teacher_feature.shape[2:]\n",
    "norm_teacher_features = F.normalize(teacher_feature)\n",
    "norm_student_features = F.normalize(student_feature)\n",
    "layer_loss = mse_loss(norm_teacher_features, norm_student_features)\n",
    "layer_loss = torch.mean(layer_loss)\n",
    "layer_loss"
   ]
  },
  {
   "cell_type": "code",
   "execution_count": null,
   "metadata": {},
   "outputs": [],
   "source": []
  },
  {
   "cell_type": "code",
   "execution_count": null,
   "metadata": {},
   "outputs": [],
   "source": [
    "norm_teacher_features.shape, ft_norm.shape"
   ]
  },
  {
   "cell_type": "code",
   "execution_count": null,
   "metadata": {},
   "outputs": [],
   "source": [
    "(norm_teacher_features - ft_norm).sum()"
   ]
  },
  {
   "cell_type": "code",
   "execution_count": null,
   "metadata": {},
   "outputs": [],
   "source": [
    "amap1.shape"
   ]
  },
  {
   "cell_type": "code",
   "execution_count": null,
   "metadata": {},
   "outputs": [],
   "source": [
    "feature_pyramid_loss = FeaturePyramidLoss()\n",
    "\n",
    "amap2 = feature_pyramid_loss.cosine_similarity(teacher_feature, student_feature)\n",
    "amap2 = F.interpolate(amap2, size=256, mode='bilinear', align_corners=False)"
   ]
  },
  {
   "cell_type": "code",
   "execution_count": null,
   "metadata": {},
   "outputs": [],
   "source": []
  },
  {
   "cell_type": "code",
   "execution_count": null,
   "metadata": {},
   "outputs": [],
   "source": [
    "feature_pyramid_loss(teacher_features, student_features)"
   ]
  },
  {
   "cell_type": "code",
   "execution_count": null,
   "metadata": {},
   "outputs": [],
   "source": [
    "\n",
    "total_loss"
   ]
  },
  {
   "cell_type": "code",
   "execution_count": null,
   "metadata": {},
   "outputs": [],
   "source": [
    "layer_losses.shape"
   ]
  },
  {
   "cell_type": "code",
   "execution_count": null,
   "metadata": {},
   "outputs": [],
   "source": [
    "self = feature_pyramid_loss"
   ]
  },
  {
   "cell_type": "code",
   "execution_count": null,
   "metadata": {},
   "outputs": [],
   "source": [
    "layer_losses = [self.compute_layer_loss(teacher_features[l], student_features[l]) for l in teacher_features.keys()]\n",
    "layer_losses = torch.stack(losses, dim=1)  # Eq (3): (NxL)\n",
    "total_loss = layer_losses.sum()  # Eq (3): (N)\n",
    "total_loss"
   ]
  },
  {
   "cell_type": "code",
   "execution_count": null,
   "metadata": {},
   "outputs": [],
   "source": [
    "layer_losses"
   ]
  },
  {
   "cell_type": "code",
   "execution_count": null,
   "metadata": {},
   "outputs": [],
   "source": [
    "layer_losses"
   ]
  },
  {
   "cell_type": "code",
   "execution_count": null,
   "metadata": {},
   "outputs": [],
   "source": [
    "layer_losses.shape, layer_loss.shape"
   ]
  },
  {
   "cell_type": "code",
   "execution_count": null,
   "metadata": {},
   "outputs": [],
   "source": []
  },
  {
   "cell_type": "code",
   "execution_count": null,
   "metadata": {},
   "outputs": [],
   "source": [
    "total_losses = []\n",
    "for layer_loss in layer_losses:\n",
    "    h, w = layer_loss.shape\n",
    "    total_loss = 0\n",
    "    for i in range(h):\n",
    "        for j in range(w):\n",
    "            total_loss += layer_loss[i, j]\n",
    "\n",
    "    total_loss = total_loss / (h * w)\n",
    "    total_losses.append(total_loss)"
   ]
  },
  {
   "cell_type": "code",
   "execution_count": null,
   "metadata": {},
   "outputs": [],
   "source": [
    "total_losses"
   ]
  },
  {
   "cell_type": "code",
   "execution_count": null,
   "metadata": {},
   "outputs": [],
   "source": [
    "layer_losses.shape"
   ]
  },
  {
   "cell_type": "code",
   "execution_count": null,
   "metadata": {},
   "outputs": [],
   "source": [
    "torch.mean(layer_losses, dim=0).shape"
   ]
  },
  {
   "cell_type": "code",
   "execution_count": null,
   "metadata": {},
   "outputs": [],
   "source": []
  },
  {
   "cell_type": "code",
   "execution_count": null,
   "metadata": {},
   "outputs": [],
   "source": [
    "torch.stack(layer_losses, dim=1).sum(dim=1).shape"
   ]
  },
  {
   "cell_type": "code",
   "execution_count": null,
   "metadata": {},
   "outputs": [],
   "source": [
    "layer_loss(teacher_feature, student_feature).shape"
   ]
  },
  {
   "cell_type": "code",
   "execution_count": null,
   "metadata": {},
   "outputs": [],
   "source": [
    "mse_loss = nn.MSELoss(reduction=\"none\")\n",
    "norm_teacher_features = F.normalize(teacher_feature)\n",
    "norm_student_features = F.normalize(student_feature)\n",
    "layer_loss = 0.5 * mse_loss(norm_teacher_features, norm_student_features)\n",
    "layer_loss.shape"
   ]
  },
  {
   "cell_type": "code",
   "execution_count": null,
   "metadata": {},
   "outputs": [],
   "source": [
    "layer_loss.shape"
   ]
  },
  {
   "cell_type": "code",
   "execution_count": null,
   "metadata": {},
   "outputs": [],
   "source": [
    "torch.mean(layer_loss, dim=(1,2,3))"
   ]
  },
  {
   "cell_type": "markdown",
   "metadata": {},
   "source": [
    "### Heatmap"
   ]
  },
  {
   "cell_type": "code",
   "execution_count": null,
   "metadata": {},
   "outputs": [],
   "source": [
    "anomap = layer_loss(teacher_feature, student_feature)\n",
    "anomap = m(anomap)\n",
    "\n",
    "# heatmap = torch.mean(anomap[0], 1)"
   ]
  },
  {
   "cell_type": "code",
   "execution_count": null,
   "metadata": {},
   "outputs": [],
   "source": [
    "ToPILImage()(anomap[0][0])"
   ]
  },
  {
   "cell_type": "code",
   "execution_count": null,
   "metadata": {},
   "outputs": [],
   "source": [
    "m = torch.nn.Upsample(size=(256, 256), mode='bilinear', align_corners=False)\n",
    "# ToPILImage()(m(heatmap))"
   ]
  },
  {
   "cell_type": "code",
   "execution_count": null,
   "metadata": {},
   "outputs": [],
   "source": [
    "ToPILImage()(heatmap)"
   ]
  },
  {
   "cell_type": "code",
   "execution_count": null,
   "metadata": {},
   "outputs": [],
   "source": [
    "nn.MSELoss(reduction=\"mean\")(teacher_feature, student_feature)"
   ]
  }
 ],
 "metadata": {
  "kernelspec": {
   "display_name": "Python 3.6.9 64-bit ('stfpm': conda)",
   "language": "python",
   "name": "python369jvsc74a57bd06d295c4ff156ec4eca1f3e336eb580e028bb40eec3462bcd0375445e8423263e"
  },
  "language_info": {
   "codemirror_mode": {
    "name": "ipython",
    "version": 3
   },
   "file_extension": ".py",
   "mimetype": "text/x-python",
   "name": "python",
   "nbconvert_exporter": "python",
   "pygments_lexer": "ipython3",
   "version": "3.6.9"
  },
  "metadata": {
   "interpreter": {
    "hash": "6d295c4ff156ec4eca1f3e336eb580e028bb40eec3462bcd0375445e8423263e"
   }
  }
 },
 "nbformat": 4,
 "nbformat_minor": 2
}
